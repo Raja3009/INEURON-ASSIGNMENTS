{
 "cells": [
  {
   "cell_type": "markdown",
   "id": "e9456150",
   "metadata": {},
   "source": [
    "1. Write a function to compute 5/0 and use try/except to catch the exceptions."
   ]
  },
  {
   "cell_type": "code",
   "execution_count": 1,
   "id": "a57b4f4b",
   "metadata": {},
   "outputs": [
    {
     "name": "stdout",
     "output_type": "stream",
     "text": [
      "division by zero\n"
     ]
    }
   ],
   "source": [
    "def func():\n",
    "    try:\n",
    "        a = 5/0\n",
    "    except Exception as e:\n",
    "        print(e)\n",
    "func()"
   ]
  },
  {
   "cell_type": "markdown",
   "id": "d74cd28e",
   "metadata": {},
   "source": [
    "## 2. Implement a Python program to generate all sentences where subject is in\n",
    "[\"Americans\", \"Indians\"] and verb is in [\"Play\", \"watch\"] and the object is in\n",
    "[\"Baseball\",\"cricket\"].\n",
    "\n",
    "\n",
    "\n",
    "Hint: Subject,Verb and Object should be declared in the program as shown below.\n",
    "subjects=[\"Americans \",\"Indians\"]\n",
    "verbs=[\"play\",\"watch\"]\n",
    "objects=[\"Baseball\",\"Cricket\"]\n",
    "\n",
    "## Output should come as below:\n",
    "Americans play Baseball.\n",
    "Americans play Cricket.\n",
    "Americans watch Baseball.\n",
    "Americans watch Cricket.\n",
    "Indians play Baseball.\n",
    "Indians play Cricket.\n",
    "Indians watch Baseball.\n",
    "Indians watch Cricket."
   ]
  },
  {
   "cell_type": "code",
   "execution_count": 2,
   "id": "cdcf82f7",
   "metadata": {},
   "outputs": [
    {
     "name": "stdout",
     "output_type": "stream",
     "text": [
      "Americans   play  Baseball\n",
      "Americans   play  Cricket\n",
      "Americans   watch  Baseball\n",
      "Americans   watch  Cricket\n",
      "Indians  play  Baseball\n",
      "Indians  play  Cricket\n",
      "Indians  watch  Baseball\n",
      "Indians  watch  Cricket\n"
     ]
    }
   ],
   "source": [
    "subjects=[\"Americans \",\"Indians\"]\n",
    "verbs=[\"play\",\"watch\"]\n",
    "objects=[\"Baseball\",\"Cricket\"]\n",
    "\n",
    "for a in range(0,len(subjects)):\n",
    "    for b in range(0,len(verbs)):\n",
    "        for c  in range(0,len(objects)):\n",
    "            print(subjects[a]+\"  \"+verbs[b]+\"  \"+objects[c])\n",
    "            "
   ]
  }
 ],
 "metadata": {
  "kernelspec": {
   "display_name": "Python 3",
   "language": "python",
   "name": "python3"
  },
  "language_info": {
   "codemirror_mode": {
    "name": "ipython",
    "version": 3
   },
   "file_extension": ".py",
   "mimetype": "text/x-python",
   "name": "python",
   "nbconvert_exporter": "python",
   "pygments_lexer": "ipython3",
   "version": "3.8.8"
  }
 },
 "nbformat": 4,
 "nbformat_minor": 5
}
