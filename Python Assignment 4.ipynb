{
 "cells": [
  {
   "cell_type": "markdown",
   "id": "65f4575c",
   "metadata": {},
   "source": [
    "1.1 Write a Python Program(with class concepts) to find the area of the triangle using the below formula.\n",
    "area = (s*(s-a)*(s-b)*(s-c)) ** 0.5\n",
    "Function to take the length of the sides of triangle from user should be defined in the parent\n",
    "class and function to calculate the area should be defined in subclass"
   ]
  },
  {
   "cell_type": "code",
   "execution_count": 1,
   "id": "f00f8d3f",
   "metadata": {},
   "outputs": [
    {
     "name": "stdout",
     "output_type": "stream",
     "text": [
      "enter the length of side a: 12\n",
      "enter the length of side b: 5\n",
      "enter the length of side c: 13\n",
      "Area of the triangle is 30.0\n"
     ]
    }
   ],
   "source": [
    "a = float(input(\"enter the length of side a: \"))\n",
    "b = float(input(\"enter the length of side b: \"))\n",
    "c = float(input(\"enter the length of side c: \"))\n",
    "\n",
    "class Area_of_Triangle:\n",
    "    def __init__(self,a,b,c):\n",
    "        self.a = a\n",
    "        self.b = b\n",
    "        self.c = c\n",
    "    def area(self):\n",
    "        s = (self.a+self.b+self.c)/2\n",
    "        area = (s*(s-self.a)*(s-self.b)*(s-self.c))**0.5\n",
    "        return area\n",
    "tri = Area_of_Triangle(a,b,c)\n",
    "\n",
    "print(\"Area of the triangle is {}\".format(tri.area()))\n",
    "    "
   ]
  },
  {
   "cell_type": "markdown",
   "id": "1b4daede",
   "metadata": {},
   "source": [
    "1.2 Write a function filter_long_words() that takes a list of words and an integer n and returns\n",
    "the list of words that are longer than n."
   ]
  },
  {
   "cell_type": "code",
   "execution_count": 2,
   "id": "48dc027b",
   "metadata": {},
   "outputs": [
    {
     "name": "stdout",
     "output_type": "stream",
     "text": [
      "Enter a number: 5\n"
     ]
    },
    {
     "data": {
      "text/plain": [
       "['RajaShekhar', 'cocunut', 'elephant']"
      ]
     },
     "execution_count": 2,
     "metadata": {},
     "output_type": "execute_result"
    }
   ],
   "source": [
    "def filter_long_words(list_1,n):\n",
    "    list_2 = []\n",
    "    for i in range(0,len(list_1)):\n",
    "        if len(list_1[i]) > n:\n",
    "            list_2.append(list_1[i])\n",
    "    return list_2\n",
    "list_3 = [\"RajaShekhar\",\"apple\",\"ball\",\"cocunut\",\"dog\",\"elephant\"]\n",
    "n = int(input(\"Enter a number: \"))    \n",
    "filter_long_words(list_3,n)\n",
    "\n"
   ]
  },
  {
   "cell_type": "markdown",
   "id": "47dfcd37",
   "metadata": {},
   "source": [
    "2.1 Write a Python program using function concept that maps list of words into a list of integers\n",
    "representing the lengths of the corresponding words."
   ]
  },
  {
   "cell_type": "code",
   "execution_count": 3,
   "id": "d97d2709",
   "metadata": {},
   "outputs": [
    {
     "data": {
      "text/plain": [
       "[2, 3, 6]"
      ]
     },
     "execution_count": 3,
     "metadata": {},
     "output_type": "execute_result"
    }
   ],
   "source": [
    "def length_list(list_1):\n",
    "    list_2=[]\n",
    "    for i in range(0,len(list_1)):\n",
    "        list_2.append(len(list_1[i]))\n",
    "    return list_2\n",
    "list_3 = [\"ab\",\"eye\",\"qwerty\"]\n",
    "length_list(list_3)"
   ]
  },
  {
   "cell_type": "markdown",
   "id": "4bfb7a13",
   "metadata": {},
   "source": [
    "2.2 Write a Python function which takes a character (i.e. a string of length 1) and returns True if\n",
    "it is a vowel, False otherwise."
   ]
  },
  {
   "cell_type": "code",
   "execution_count": 4,
   "id": "bbb6fed8",
   "metadata": {},
   "outputs": [],
   "source": [
    "def vowel_or_not(x):\n",
    "    if len(x) == 1:\n",
    "        if x in ('a','e','i','o','u','A','E','I','O','U'):\n",
    "            return True\n",
    "        else:\n",
    "            return False\n",
    "    else:\n",
    "        print(\"please enter a single character\")\n",
    "        "
   ]
  },
  {
   "cell_type": "code",
   "execution_count": 5,
   "id": "e785d26a",
   "metadata": {},
   "outputs": [
    {
     "data": {
      "text/plain": [
       "False"
      ]
     },
     "execution_count": 5,
     "metadata": {},
     "output_type": "execute_result"
    }
   ],
   "source": [
    "vowel_or_not('s')"
   ]
  },
  {
   "cell_type": "code",
   "execution_count": 6,
   "id": "8c6ab775",
   "metadata": {},
   "outputs": [
    {
     "data": {
      "text/plain": [
       "True"
      ]
     },
     "execution_count": 6,
     "metadata": {},
     "output_type": "execute_result"
    }
   ],
   "source": [
    "vowel_or_not('A')"
   ]
  },
  {
   "cell_type": "code",
   "execution_count": 7,
   "id": "13cffe00",
   "metadata": {},
   "outputs": [
    {
     "data": {
      "text/plain": [
       "True"
      ]
     },
     "execution_count": 7,
     "metadata": {},
     "output_type": "execute_result"
    }
   ],
   "source": [
    "vowel_or_not(\"a\")"
   ]
  },
  {
   "cell_type": "code",
   "execution_count": 8,
   "id": "38f40566",
   "metadata": {},
   "outputs": [
    {
     "name": "stdout",
     "output_type": "stream",
     "text": [
      "please enter a single character\n"
     ]
    }
   ],
   "source": [
    "vowel_or_not(\"ineuron\")"
   ]
  }
 ],
 "metadata": {
  "kernelspec": {
   "display_name": "Python 3",
   "language": "python",
   "name": "python3"
  },
  "language_info": {
   "codemirror_mode": {
    "name": "ipython",
    "version": 3
   },
   "file_extension": ".py",
   "mimetype": "text/x-python",
   "name": "python",
   "nbconvert_exporter": "python",
   "pygments_lexer": "ipython3",
   "version": "3.8.8"
  }
 },
 "nbformat": 4,
 "nbformat_minor": 5
}
